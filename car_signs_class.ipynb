{
 "cells": [
  {
   "cell_type": "code",
   "execution_count": 1,
   "metadata": {},
   "outputs": [
    {
     "name": "stderr",
     "output_type": "stream",
     "text": [
      "Using TensorFlow backend.\n"
     ]
    }
   ],
   "source": [
    "import tensorflow as tf\n",
    "import pickle\n",
    "physical_devices = tf.config.list_physical_devices('GPU') \n",
    "tf.config.experimental.set_memory_growth(physical_devices[0], True)\n",
    "import numpy as np\n",
    "import os\n",
    "import tqdm\n",
    "import cv2\n",
    "import matplotlib.pyplot as plt\n",
    "from PIL import Image \n",
    "from tensorflow.keras import Sequential, Model\n",
    "from tensorflow.python.client import device_lib\n",
    "from tensorflow.keras.models import load_model, save_model\n",
    "from tensorflow.keras.optimizers import Adam\n",
    "from tensorflow.keras.applications import VGG16, VGG19, InceptionV3, ResNet50V2, Xception\n",
    "from tensorflow.keras.preprocessing.image import ImageDataGenerator, array_to_img, load_img, img_to_array\n",
    "from tensorflow.keras.losses import BinaryCrossentropy, CategoricalCrossentropy\n",
    "from tensorflow.keras.layers import Conv2D, MaxPool2D, Flatten, Dense, Dropout\n",
    "from keras.callbacks import TensorBoard"
   ]
  },
  {
   "cell_type": "code",
   "execution_count": 18,
   "metadata": {},
   "outputs": [],
   "source": [
    "train_dic = r'B:\\proj\\traffic-signs\\data\\train.p'\n",
    "test_dic  = r'B:\\proj\\traffic-signs\\data\\test.p'\n",
    "val_dic   = r'B:\\proj\\traffic-signs\\data\\valid.p'\n",
    "test_files = r'C:\\Users\\nagim\\Google Drive\\projects\\traffic_signs\\traffic-signs-real\\new\\wildanimals31.jpg'\n",
    "model_dir = r'C:\\Users\\nagim\\Google Drive\\projects\\traffic_signs\\model'\n",
    "  \n",
    "train = pickle.load(open(train_dic,'rb'))\n",
    "test  = pickle.load(open(test_dic,'rb'))\n",
    "val   = pickle.load(open(val_dic, 'rb' ))\n",
    "\n",
    "\n",
    "x_train , y_train  = train['features'] , train['labels']\n",
    "x_test  , y_test   = test['features']  , test['labels']\n",
    "x_val   , y_val    = val['features']   , val['labels']\n",
    "\n",
    "\n",
    "\n",
    "y_train = tf.one_hot(y_train,43)\n",
    "y_test  = tf.one_hot(y_test,43)\n",
    "y_val   = tf.one_hot(y_val,43) "
   ]
  },
  {
   "cell_type": "code",
   "execution_count": 9,
   "metadata": {},
   "outputs": [],
   "source": [
    "def create_model() :\n",
    "    model=Sequential()\n",
    "\n",
    "    model.add(Conv2D(filters = 256,  kernel_size = (5,5), padding='same', activation='relu', input_shape = (32, 32, 3)))\n",
    "    model.add(MaxPool2D(pool_size=(2, 2), padding = 'same'))\n",
    "\n",
    "    model.add(Conv2D(filters = 512, kernel_size = (5,5), padding='same', activation='relu'))\n",
    "    model.add(MaxPool2D(pool_size=(2, 2), padding = 'same'))\n",
    "\n",
    "    model.add(Conv2D(filters = 1024, kernel_size = (5,5), padding='same', activation='relu'))\n",
    "    model.add(MaxPool2D(pool_size=(2, 2), padding = 'same'))\n",
    "\n",
    "\n",
    "    model.add(Flatten())\n",
    "\n",
    "    model.add(Dense(units= 1024, activation='relu'))\n",
    "    model.add(Dropout(0.5))\n",
    "\n",
    "    model.add(Dense(units= 512, activation='relu'))\n",
    "    model.add(Dropout(0.5))\n",
    "\n",
    "    model.add(Dense(units= 256, activation='relu'))\n",
    "    model.add(Dropout(0.5))\n",
    "\n",
    "    model.add(Dense(units= 100, activation='relu'))\n",
    "\n",
    "    model.add(Dense(units= 43, activation='softmax'))\n",
    "\n",
    "    model.compile(optimizer= Adam(), loss= CategoricaCrossentropy() ,metrics='accuracy')"
   ]
  },
  {
   "cell_type": "code",
   "execution_count": 21,
   "metadata": {},
   "outputs": [
    {
     "name": "stdout",
     "output_type": "stream",
     "text": [
      "loadded\n"
     ]
    }
   ],
   "source": [
    "if os.path.exists(model_dir + '\\saved_model.pb'):\n",
    "    model = load_model(model_dir)\n",
    "    print('loadded')\n",
    "else:\n",
    "    model = create_model"
   ]
  },
  {
   "cell_type": "code",
   "execution_count": 11,
   "metadata": {
    "collapsed": true,
    "jupyter": {
     "outputs_hidden": true
    }
   },
   "outputs": [
    {
     "name": "stdout",
     "output_type": "stream",
     "text": [
      "Epoch 1/50\n",
      " 2/68 [..............................] - ETA: 15s - loss: 237.4636 - accuracy: 0.0439WARNING:tensorflow:Callbacks method `on_train_batch_end` is slow compared to the batch time (batch time: 0.1237s vs `on_train_batch_end` time: 0.2898s). Check your callbacks.\n",
      "68/68 [==============================] - 31s 459ms/step - loss: 10.6075 - accuracy: 0.0535 - val_loss: 3.4371 - val_accuracy: 0.1195\n",
      "Epoch 2/50\n",
      "68/68 [==============================] - 27s 394ms/step - loss: 3.0887 - accuracy: 0.1350 - val_loss: 2.6178 - val_accuracy: 0.2120\n",
      "Epoch 3/50\n",
      "68/68 [==============================] - 27s 399ms/step - loss: 2.3131 - accuracy: 0.2997 - val_loss: 1.7367 - val_accuracy: 0.4565\n",
      "Epoch 4/50\n",
      "68/68 [==============================] - 27s 401ms/step - loss: 1.4823 - accuracy: 0.5456 - val_loss: 1.1797 - val_accuracy: 0.6728\n",
      "Epoch 5/50\n",
      "68/68 [==============================] - 27s 404ms/step - loss: 0.9024 - accuracy: 0.7255 - val_loss: 0.7275 - val_accuracy: 0.8107\n",
      "Epoch 6/50\n",
      "68/68 [==============================] - 28s 406ms/step - loss: 0.5717 - accuracy: 0.8401 - val_loss: 0.4478 - val_accuracy: 0.8848\n",
      "Epoch 7/50\n",
      "68/68 [==============================] - 28s 406ms/step - loss: 0.3156 - accuracy: 0.9105 - val_loss: 0.3984 - val_accuracy: 0.8986\n",
      "Epoch 8/50\n",
      "68/68 [==============================] - 28s 406ms/step - loss: 0.1715 - accuracy: 0.9513 - val_loss: 0.2684 - val_accuracy: 0.9370\n",
      "Epoch 9/50\n",
      "68/68 [==============================] - 28s 407ms/step - loss: 0.1203 - accuracy: 0.9683 - val_loss: 0.4030 - val_accuracy: 0.9288\n",
      "Epoch 10/50\n",
      "68/68 [==============================] - 28s 407ms/step - loss: 0.0793 - accuracy: 0.9808 - val_loss: 0.3191 - val_accuracy: 0.9354\n",
      "Epoch 11/50\n",
      "68/68 [==============================] - 28s 406ms/step - loss: 0.0727 - accuracy: 0.9833 - val_loss: 0.5058 - val_accuracy: 0.9029\n",
      "Epoch 12/50\n",
      "68/68 [==============================] - 28s 407ms/step - loss: 0.0760 - accuracy: 0.9836 - val_loss: 0.3038 - val_accuracy: 0.9510\n",
      "Epoch 13/50\n",
      "68/68 [==============================] - 28s 407ms/step - loss: 0.0395 - accuracy: 0.9914 - val_loss: 0.3176 - val_accuracy: 0.9522\n",
      "Epoch 14/50\n",
      "68/68 [==============================] - 28s 407ms/step - loss: 0.0584 - accuracy: 0.9885 - val_loss: 0.3012 - val_accuracy: 0.9469\n",
      "Epoch 15/50\n",
      "68/68 [==============================] - 28s 407ms/step - loss: 0.0507 - accuracy: 0.9895 - val_loss: 0.2909 - val_accuracy: 0.9490\n",
      "Epoch 16/50\n",
      "68/68 [==============================] - 28s 409ms/step - loss: 0.0427 - accuracy: 0.9911 - val_loss: 0.2093 - val_accuracy: 0.9592\n",
      "Epoch 17/50\n",
      "68/68 [==============================] - 28s 408ms/step - loss: 0.0312 - accuracy: 0.9938 - val_loss: 0.2936 - val_accuracy: 0.9592\n",
      "Epoch 18/50\n",
      "68/68 [==============================] - 28s 408ms/step - loss: 0.0338 - accuracy: 0.9934 - val_loss: 0.3763 - val_accuracy: 0.9426\n",
      "Epoch 19/50\n",
      "68/68 [==============================] - 28s 408ms/step - loss: 0.0542 - accuracy: 0.9891 - val_loss: 0.4517 - val_accuracy: 0.9356\n",
      "Epoch 20/50\n",
      "68/68 [==============================] - 28s 411ms/step - loss: 0.0340 - accuracy: 0.9938 - val_loss: 0.3594 - val_accuracy: 0.9535\n",
      "Epoch 21/50\n",
      "68/68 [==============================] - 28s 409ms/step - loss: 0.0392 - accuracy: 0.9927 - val_loss: 0.2869 - val_accuracy: 0.9528\n",
      "Epoch 22/50\n",
      "68/68 [==============================] - 28s 409ms/step - loss: 0.0273 - accuracy: 0.9950 - val_loss: 0.2703 - val_accuracy: 0.9526\n",
      "Epoch 23/50\n",
      "68/68 [==============================] - 28s 409ms/step - loss: 0.0191 - accuracy: 0.9963 - val_loss: 0.2421 - val_accuracy: 0.9580\n",
      "Epoch 24/50\n",
      "68/68 [==============================] - 28s 410ms/step - loss: 0.0441 - accuracy: 0.9930 - val_loss: 0.3539 - val_accuracy: 0.9531\n",
      "Epoch 25/50\n",
      "68/68 [==============================] - 28s 413ms/step - loss: 0.0461 - accuracy: 0.9915 - val_loss: 0.4344 - val_accuracy: 0.9263\n",
      "Epoch 26/50\n",
      "68/68 [==============================] - 28s 410ms/step - loss: 0.0566 - accuracy: 0.9892 - val_loss: 0.3077 - val_accuracy: 0.9413\n",
      "Epoch 27/50\n",
      "68/68 [==============================] - 28s 409ms/step - loss: 0.0353 - accuracy: 0.9931 - val_loss: 0.3150 - val_accuracy: 0.9444\n",
      "Epoch 28/50\n",
      "68/68 [==============================] - 28s 409ms/step - loss: 0.0566 - accuracy: 0.9900 - val_loss: 0.4734 - val_accuracy: 0.9338\n",
      "Epoch 29/50\n",
      "68/68 [==============================] - 28s 409ms/step - loss: 0.0509 - accuracy: 0.9904 - val_loss: 0.6376 - val_accuracy: 0.9447\n",
      "Epoch 30/50\n",
      "68/68 [==============================] - 28s 409ms/step - loss: 0.0239 - accuracy: 0.9947 - val_loss: 0.3150 - val_accuracy: 0.9553\n",
      "Epoch 31/50\n",
      "68/68 [==============================] - 28s 409ms/step - loss: 0.0245 - accuracy: 0.9955 - val_loss: 0.3874 - val_accuracy: 0.9440\n",
      "Epoch 32/50\n",
      "68/68 [==============================] - 28s 409ms/step - loss: 0.0450 - accuracy: 0.9921 - val_loss: 0.6077 - val_accuracy: 0.9161\n",
      "Epoch 33/50\n",
      "68/68 [==============================] - 28s 410ms/step - loss: 0.0335 - accuracy: 0.9943 - val_loss: 0.3299 - val_accuracy: 0.9444\n",
      "Epoch 34/50\n",
      "68/68 [==============================] - 28s 410ms/step - loss: 0.0219 - accuracy: 0.9959 - val_loss: 0.3724 - val_accuracy: 0.9562\n",
      "Epoch 35/50\n",
      "68/68 [==============================] - 28s 409ms/step - loss: 0.0454 - accuracy: 0.9928 - val_loss: 0.3571 - val_accuracy: 0.9381\n",
      "Epoch 36/50\n",
      "68/68 [==============================] - 29s 421ms/step - loss: 0.0370 - accuracy: 0.9948 - val_loss: 0.4388 - val_accuracy: 0.9245\n",
      "Epoch 37/50\n",
      "68/68 [==============================] - 30s 440ms/step - loss: 0.0517 - accuracy: 0.9908 - val_loss: 0.4374 - val_accuracy: 0.9433\n",
      "Epoch 38/50\n",
      "68/68 [==============================] - 30s 440ms/step - loss: 0.0263 - accuracy: 0.9959 - val_loss: 0.3163 - val_accuracy: 0.9574\n",
      "Epoch 39/50\n",
      "68/68 [==============================] - 31s 449ms/step - loss: 0.0213 - accuracy: 0.9965 - val_loss: 0.2930 - val_accuracy: 0.9574\n",
      "Epoch 40/50\n",
      "68/68 [==============================] - 34s 503ms/step - loss: 0.0278 - accuracy: 0.9953 - val_loss: 0.3724 - val_accuracy: 0.9510\n",
      "Epoch 41/50\n",
      "68/68 [==============================] - 30s 443ms/step - loss: 0.0133 - accuracy: 0.9980 - val_loss: 0.2458 - val_accuracy: 0.9556\n",
      "Epoch 42/50\n",
      "68/68 [==============================] - 28s 411ms/step - loss: 0.0200 - accuracy: 0.9964 - val_loss: 0.3347 - val_accuracy: 0.9435\n",
      "Epoch 43/50\n",
      "68/68 [==============================] - 28s 411ms/step - loss: 0.0376 - accuracy: 0.9940 - val_loss: 0.3910 - val_accuracy: 0.9506\n",
      "Epoch 44/50\n",
      "68/68 [==============================] - 30s 440ms/step - loss: 0.0740 - accuracy: 0.9883 - val_loss: 0.4035 - val_accuracy: 0.9478\n",
      "Epoch 45/50\n",
      "68/68 [==============================] - 29s 420ms/step - loss: 0.0211 - accuracy: 0.9967 - val_loss: 0.3991 - val_accuracy: 0.9410\n",
      "Epoch 46/50\n",
      "68/68 [==============================] - 28s 407ms/step - loss: 0.0289 - accuracy: 0.9950 - val_loss: 0.4226 - val_accuracy: 0.9605\n",
      "Epoch 47/50\n",
      "68/68 [==============================] - 28s 416ms/step - loss: 0.0297 - accuracy: 0.9963 - val_loss: 0.3853 - val_accuracy: 0.9259\n",
      "Epoch 48/50\n",
      "68/68 [==============================] - 28s 418ms/step - loss: 0.0493 - accuracy: 0.9919 - val_loss: 0.4412 - val_accuracy: 0.9458\n",
      "Epoch 49/50\n",
      "68/68 [==============================] - 28s 405ms/step - loss: 0.0906 - accuracy: 0.9852 - val_loss: 0.5283 - val_accuracy: 0.9365\n",
      "Epoch 50/50\n",
      "68/68 [==============================] - 28s 409ms/step - loss: 0.0961 - accuracy: 0.9870 - val_loss: 0.5247 - val_accuracy: 0.9354\n"
     ]
    },
    {
     "data": {
      "text/plain": [
       "<tensorflow.python.keras.callbacks.History at 0x2303b633550>"
      ]
     },
     "execution_count": 11,
     "metadata": {},
     "output_type": "execute_result"
    }
   ],
   "source": [
    "model.fit(x=x_train, y=y_train, batch_size=512,epochs=50,validation_data=(x_val,y_val))"
   ]
  },
  {
   "cell_type": "code",
   "execution_count": 22,
   "metadata": {},
   "outputs": [
    {
     "name": "stdout",
     "output_type": "stream",
     "text": [
      "25/25 [==============================] - 1s 45ms/step - loss: 0.3967 - accuracy: 0.9511\n"
     ]
    },
    {
     "data": {
      "text/plain": [
       "[0.3967425227165222, 0.9510688781738281]"
      ]
     },
     "execution_count": 22,
     "metadata": {},
     "output_type": "execute_result"
    }
   ],
   "source": [
    "model.evaluate(x= x_test , y= y_test, batch_size= 512 , verbose=1)"
   ]
  },
  {
   "cell_type": "code",
   "execution_count": 23,
   "metadata": {},
   "outputs": [
    {
     "data": {
      "text/plain": [
       "31"
      ]
     },
     "execution_count": 23,
     "metadata": {},
     "output_type": "execute_result"
    }
   ],
   "source": [
    "x = load_img(test_files)\n",
    "x = img_to_array(x)\n",
    "x = np.expand_dims(x, axis=0)\n",
    "y = model.predict(x)\n",
    "y.argmax()"
   ]
  },
  {
   "cell_type": "code",
   "execution_count": 7,
   "metadata": {},
   "outputs": [],
   "source": [
    "model = load_model(model_dir)"
   ]
  },
  {
   "cell_type": "code",
   "execution_count": 10,
   "metadata": {},
   "outputs": [
    {
     "name": "stdout",
     "output_type": "stream",
     "text": [
      "Model: \"sequential_1\"\n",
      "_________________________________________________________________\n",
      "Layer (type)                 Output Shape              Param #   \n",
      "=================================================================\n",
      "conv2d_2 (Conv2D)            (None, 32, 32, 256)       19456     \n",
      "_________________________________________________________________\n",
      "max_pooling2d_2 (MaxPooling2 (None, 16, 16, 256)       0         \n",
      "_________________________________________________________________\n",
      "conv2d_3 (Conv2D)            (None, 16, 16, 512)       3277312   \n",
      "_________________________________________________________________\n",
      "max_pooling2d_3 (MaxPooling2 (None, 8, 8, 512)         0         \n",
      "_________________________________________________________________\n",
      "conv2d_4 (Conv2D)            (None, 8, 8, 1024)        13108224  \n",
      "_________________________________________________________________\n",
      "max_pooling2d_4 (MaxPooling2 (None, 4, 4, 1024)        0         \n",
      "_________________________________________________________________\n",
      "conv2d_5 (Conv2D)            (None, 4, 4, 2048)        52430848  \n",
      "_________________________________________________________________\n",
      "max_pooling2d_5 (MaxPooling2 (None, 2, 2, 2048)        0         \n",
      "_________________________________________________________________\n",
      "flatten_1 (Flatten)          (None, 8192)              0         \n",
      "_________________________________________________________________\n",
      "dense_5 (Dense)              (None, 1024)              8389632   \n",
      "_________________________________________________________________\n",
      "dropout_3 (Dropout)          (None, 1024)              0         \n",
      "_________________________________________________________________\n",
      "dense_6 (Dense)              (None, 512)               524800    \n",
      "_________________________________________________________________\n",
      "dropout_4 (Dropout)          (None, 512)               0         \n",
      "_________________________________________________________________\n",
      "dense_7 (Dense)              (None, 256)               131328    \n",
      "_________________________________________________________________\n",
      "dropout_5 (Dropout)          (None, 256)               0         \n",
      "_________________________________________________________________\n",
      "dense_8 (Dense)              (None, 100)               25700     \n",
      "_________________________________________________________________\n",
      "dense_9 (Dense)              (None, 43)                4343      \n",
      "=================================================================\n",
      "Total params: 77,911,643\n",
      "Trainable params: 77,911,643\n",
      "Non-trainable params: 0\n",
      "_________________________________________________________________\n"
     ]
    }
   ],
   "source": [
    "model.summary()"
   ]
  },
  {
   "cell_type": "code",
   "execution_count": 40,
   "metadata": {},
   "outputs": [
    {
     "name": "stdout",
     "output_type": "stream",
     "text": [
      "INFO:tensorflow:Assets written to: C:\\Users\\nagim\\Google Drive\\projects\\traffic_signs\\model\\assets\n"
     ]
    }
   ],
   "source": [
    "model.save(model_dir)"
   ]
  },
  {
   "cell_type": "code",
   "execution_count": null,
   "metadata": {},
   "outputs": [],
   "source": []
  }
 ],
 "metadata": {
  "kernelspec": {
   "display_name": "Python 3",
   "language": "python",
   "name": "python3"
  },
  "language_info": {
   "codemirror_mode": {
    "name": "ipython",
    "version": 3
   },
   "file_extension": ".py",
   "mimetype": "text/x-python",
   "name": "python",
   "nbconvert_exporter": "python",
   "pygments_lexer": "ipython3",
   "version": "3.8.3"
  }
 },
 "nbformat": 4,
 "nbformat_minor": 4
}
